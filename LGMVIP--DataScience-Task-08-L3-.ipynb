{
 "cells": [
  {
   "cell_type": "code",
   "execution_count": 22,
   "id": "ced455d1",
   "metadata": {},
   "outputs": [],
   "source": [
    "import numpy as np"
   ]
  },
  {
   "cell_type": "code",
   "execution_count": 23,
   "id": "6647b7d9",
   "metadata": {},
   "outputs": [],
   "source": [
    "predcon = {}\n",
    "def update_predcon(current : str, next_word : str) -> None:\n",
    "   \n",
    "    if current not in predcon:\n",
    "        predcon.update({current: {next_word: 1} })\n",
    "        return\n",
    "\n",
    "   \n",
    "    options = predcon[current]\n",
    "\n",
    "    \n",
    "    if next_word not in options:\n",
    "        options.update({next_word : 1})\n",
    "    else:\n",
    "        options.update({next_word : options[next_word] + 1})\n",
    "\n",
    "   \n",
    "    predcon[current] = options"
   ]
  },
  {
   "cell_type": "code",
   "execution_count": 24,
   "id": "b3c90b2b",
   "metadata": {},
   "outputs": [],
   "source": [
    "with open('C:/Users/shivani/Downloads/NewWrd_DataSet.txt', 'r', encoding ='ISO-8859-1') as dataset:\n",
    "    for line in dataset:\n",
    "        letter = line.strip().split(' ')\n",
    "        for i in range(len(letter) - 1):\n",
    "            update_predcon(letter[i], letter[i+1])"
   ]
  },
  {
   "cell_type": "code",
   "execution_count": 25,
   "id": "8c5fad1a",
   "metadata": {},
   "outputs": [
    {
     "name": "stdout",
     "output_type": "stream",
     "text": [
      "> what is\n",
      "what is the\n"
     ]
    }
   ],
   "source": [
    "for word, transition in predcon.items():\n",
    "    transition = dict((key, value / sum(transition.values())) for key, value in transition.items())\n",
    "    predcon[word] = transition\n",
    "    \n",
    "line = input('> ')\n",
    "letter = line.strip().split(' ')[-1]\n",
    "if letter not in predcon:\n",
    "    print('Word not found in my dataset!!')\n",
    "else:\n",
    "    options = predcon[letter]\n",
    "    predicted = np.random.choice(list(options.keys()), p=list(options.values()))\n",
    "    print(line + ' ' + predicted)"
   ]
  },
  {
   "cell_type": "code",
   "execution_count": null,
   "id": "4bbc1f00",
   "metadata": {},
   "outputs": [],
   "source": []
  }
 ],
 "metadata": {
  "kernelspec": {
   "display_name": "Python 3 (ipykernel)",
   "language": "python",
   "name": "python3"
  },
  "language_info": {
   "codemirror_mode": {
    "name": "ipython",
    "version": 3
   },
   "file_extension": ".py",
   "mimetype": "text/x-python",
   "name": "python",
   "nbconvert_exporter": "python",
   "pygments_lexer": "ipython3",
   "version": "3.9.1"
  }
 },
 "nbformat": 4,
 "nbformat_minor": 5
}
